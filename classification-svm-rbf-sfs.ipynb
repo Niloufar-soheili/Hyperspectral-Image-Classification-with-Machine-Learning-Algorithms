{
 "cells": [
  {
   "cell_type": "code",
   "execution_count": 1,
   "id": "2b6d5649",
   "metadata": {},
   "outputs": [],
   "source": [
    "# Import required libraries\n",
    "\n",
    "import numpy as np\n",
    "import matplotlib.pyplot as plt\n",
    "%matplotlib inline\n",
    "from scipy.io import loadmat\n",
    "from sklearn.preprocessing import StandardScaler, MinMaxScaler\n",
    "from sklearn.model_selection import train_test_split\n",
    "\n",
    "from matplotlib import cm\n",
    "from matplotlib.ticker import LinearLocator, FormatStrFormatter\n",
    "from sklearn.svm import SVC\n",
    "from sklearn.metrics import accuracy_score\n",
    "import matplotlib.pyplot as plt\n"
   ]
  },
  {
   "cell_type": "code",
   "execution_count": 2,
   "id": "fd551a27",
   "metadata": {},
   "outputs": [
    {
     "name": "stdout",
     "output_type": "stream",
     "text": [
      "(94249, 162)\n",
      "(94249,)\n"
     ]
    }
   ],
   "source": [
    "# Importing the Data                                                                       Shape\n",
    "\n",
    "Endg_Truth = loadmat('end6_groundTruth.mat')      \n",
    "Ground_Truth = loadmat('groundTruth.mat')               \n",
    "Urban = loadmat('Urban_R162.mat')                 \n",
    "image = Urban['Y'].T                                                                #    94249*162  \n",
    "groundTruth = Ground_Truth ['groundTruth']                                          #     307*307\n",
    "image_shape = (Ground_Truth ['nRow'], Ground_Truth ['nCol'], image.shape[1])\n",
    "\n",
    "\n",
    "def hyper_to_2D(img):\n",
    "    \"\"\"\n",
    "    \n",
    "    Converts a 3D HSI cube (m x n x p) to a 2D matrix of points (N X p)\n",
    "+   N = m*n, p := number of bands\n",
    "\n",
    "    \"\"\"\n",
    "    img = np.array(img)\n",
    "    ndim = img.ndim\n",
    "\n",
    "    if ndim not in [2, 3]:\n",
    "      raise \"invalid dimention. ndim = 2 or 3\"\n",
    "\n",
    "    if ndim == 2:\n",
    "      m, n = np.shape(img)\n",
    "      \n",
    "      hyper_img = np.empty((m,n,1))\n",
    "      hyper_img[:,:,0] = img\n",
    "\n",
    "      return hyper_to_2D(hyper_img).ravel()\n",
    "\n",
    "    m, n, p = np.shape(img)\n",
    "    N = n * m\n",
    "    \n",
    "    dataset = img.T.reshape((p, N)).T\n",
    "\n",
    "    if p == 1:\n",
    "      return dataset.ravel()\n",
    "    \n",
    "    return dataset\n",
    "\n",
    "image = image\n",
    "groundTruth = hyper_to_2D(groundTruth)\n",
    "\n",
    "print(image.shape)\n",
    "print(groundTruth.shape)\n"
   ]
  },
  {
   "cell_type": "code",
   "execution_count": 3,
   "id": "2c0826c5",
   "metadata": {},
   "outputs": [
    {
     "name": "stdout",
     "output_type": "stream",
     "text": [
      "(65974, 162)\n",
      "(28275, 162)\n",
      "(65974,)\n",
      "(28275,)\n"
     ]
    }
   ],
   "source": [
    "# Standardization\n",
    "# Split into train (2/3) and test (1/3) sets\n",
    "\n",
    "image = StandardScaler().fit_transform(image)\n",
    "seed = 40\n",
    "X_train, X_test, y_train, y_test = train_test_split(image, groundTruth, test_size = 0.30 , train_size = 0.70 , random_state = seed , stratify=groundTruth)\n",
    "print(X_train.shape)\n",
    "print(X_test.shape)\n",
    "print(y_train.shape)\n",
    "print(y_test.shape)\n"
   ]
  },
  {
   "cell_type": "code",
   "execution_count": 4,
   "id": "05173619",
   "metadata": {},
   "outputs": [],
   "source": [
    "# sequential forward Feature Selection\n",
    "\n",
    "SFS_FS = [14, 47, 61, 76, 106, 107, 115, 129, 142, 145]\n"
   ]
  },
  {
   "cell_type": "code",
   "execution_count": 5,
   "id": "166e56c1",
   "metadata": {},
   "outputs": [
    {
     "name": "stdout",
     "output_type": "stream",
     "text": [
      "g= 0.1 c= 0.1 accuracy test= 0.9252696728558798\n",
      "g= 0.1 c= 0.1 accuracy train= 0.926304301694607\n",
      "g= 1 c= 0.1 accuracy test= 0.9507338638373121\n",
      "g= 1 c= 0.1 accuracy train= 0.9524661230181587\n",
      "g= 10 c= 0.1 accuracy test= 0.9377188328912467\n",
      "g= 10 c= 0.1 accuracy train= 0.9430684815230242\n",
      "g= 0.1 c= 1 accuracy test= 0.9484703801945181\n",
      "g= 0.1 c= 1 accuracy train= 0.9484797041258678\n",
      "g= 1 c= 1 accuracy test= 0.9650574712643678\n",
      "g= 1 c= 1 accuracy train= 0.9680177039439779\n",
      "g= 10 c= 1 accuracy test= 0.9651635720601238\n",
      "g= 10 c= 1 accuracy train= 0.982765938096826\n",
      "g= 0.1 c= 10 accuracy test= 0.9592572944297082\n",
      "g= 0.1 c= 10 accuracy train= 0.9604692757753054\n",
      "g= 1 c= 10 accuracy test= 0.9708222811671088\n",
      "g= 1 c= 10 accuracy train= 0.9770970382271804\n",
      "g= 10 c= 10 accuracy test= 0.9649513704686119\n",
      "g= 10 c= 10 accuracy train= 0.9943462576166369\n"
     ]
    }
   ],
   "source": [
    "# Tune parameters\n",
    "# kernel rbf\n",
    "\n",
    "G=[0.1,1,10]\n",
    "C=[0.1,1,10]\n",
    "accuracy_test = []\n",
    "accuracy_train = []\n",
    "\n",
    "for c in C:\n",
    "    for g in G:\n",
    "    \n",
    "        svm = SVC(kernel= 'rbf', random_state=1, C=c, gamma=g)\n",
    "        svm.fit(X_train[:,  SFS_FS],y_train)\n",
    "        predict_Ltest = svm.predict(X_test[:,  SFS_FS])\n",
    "        predict_Ltrain = svm.predict(X_train[:,  SFS_FS])\n",
    "        a1=accuracy_score(y_test,predict_Ltest)\n",
    "        a2=accuracy_score(y_train,predict_Ltrain)\n",
    "        accuracy_test.append([g,c,a1])\n",
    "        print('g=',g,'c=',c,'accuracy test=',a1)\n",
    "        accuracy_train.append([g,c,a2])\n",
    "        print('g=',g,'c=',c,'accuracy train=',a2)\n"
   ]
  },
  {
   "cell_type": "code",
   "execution_count": null,
   "id": "387a1773",
   "metadata": {},
   "outputs": [],
   "source": []
  }
 ],
 "metadata": {
  "kernelspec": {
   "display_name": "Python 3",
   "language": "python",
   "name": "python3"
  },
  "language_info": {
   "codemirror_mode": {
    "name": "ipython",
    "version": 3
   },
   "file_extension": ".py",
   "mimetype": "text/x-python",
   "name": "python",
   "nbconvert_exporter": "python",
   "pygments_lexer": "ipython3",
   "version": "3.8.8"
  }
 },
 "nbformat": 4,
 "nbformat_minor": 5
}
