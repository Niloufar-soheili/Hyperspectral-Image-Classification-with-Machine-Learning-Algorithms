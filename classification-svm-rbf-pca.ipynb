{
 "cells": [
  {
   "cell_type": "code",
   "execution_count": 2,
   "id": "3d0c0205",
   "metadata": {},
   "outputs": [],
   "source": [
    "import numpy as np\n",
    "import matplotlib.pyplot as plt\n",
    "from scipy.io import loadmat\n",
    "\n",
    "from matplotlib import cm\n",
    "from matplotlib.ticker import LinearLocator, FormatStrFormatter"
   ]
  },
  {
   "cell_type": "code",
   "execution_count": 7,
   "id": "df996b27",
   "metadata": {},
   "outputs": [
    {
     "name": "stdout",
     "output_type": "stream",
     "text": [
      "(94249, 162)\n",
      "(94249,)\n"
     ]
    }
   ],
   "source": [
    "E_G_Truth = loadmat('end6_groundTruth.mat')        # GroundTruth         type is dict\n",
    "G_Truth = loadmat('groundTruth.mat')               # Train Data          type is dict\n",
    "Urban = loadmat('Urban_R162.mat')                  # Original Data       type is dict\n",
    "\n",
    "image = Urban['Y'].T                                                          #                94249*162  \n",
    "groundTruth = G_Truth['groundTruth']                                          #                307*307\n",
    "\n",
    "image_shape = (G_Truth['nRow'], G_Truth['nCol'], image.shape[1])\n",
    "\n",
    "\n",
    "def hyper_to_2D(img):\n",
    "    \"\"\"\n",
    "    Converts an HSI cube to a 2D matrix\n",
    "    Converts a 3D HSI cube (m x n x p) to a 2D matrix of points (N X p)\n",
    "    where N = m*n, p := number of bands\n",
    "    Usage\n",
    "      [dataset] = hyperConvert2d(img)\n",
    "    Inputs\n",
    "      img - 3D HSI cube (m x n x p)\n",
    "    Outputs\n",
    "      img - 2D data matrix (N x p)\n",
    "    \"\"\"\n",
    "    img = np.array(img)\n",
    "    ndim = img.ndim\n",
    "\n",
    "    if ndim not in [2, 3]:\n",
    "      raise \"dimension of image is invalid. ndim = 2 or 3\"\n",
    "\n",
    "    if ndim == 2:\n",
    "      m, n = np.shape(img)\n",
    "      \n",
    "      hyper_img = np.empty((m,n,1))\n",
    "      hyper_img[:,:,0] = img\n",
    "\n",
    "      return hyper_to_2D(hyper_img).ravel()\n",
    "\n",
    "    m, n, p = np.shape(img)\n",
    "    N = n * m\n",
    "    \n",
    "    dataset = img.T.reshape((p, N)).T\n",
    "\n",
    "    if p == 1:\n",
    "      return dataset.ravel()\n",
    "    \n",
    "    return dataset\n",
    "\n",
    "\n",
    "image = image\n",
    "groundTruth = hyper_to_2D(groundTruth)\n",
    "\n",
    "print(image.shape)\n",
    "print(groundTruth.shape)\n"
   ]
  },
  {
   "cell_type": "code",
   "execution_count": 8,
   "id": "cf36b924",
   "metadata": {},
   "outputs": [],
   "source": [
    "# T normalize\n",
    "\n",
    "from sklearn.preprocessing import StandardScaler, MinMaxScaler\n",
    "from sklearn.model_selection import train_test_split\n",
    "\n"
   ]
  },
  {
   "cell_type": "code",
   "execution_count": 9,
   "id": "e649a9fc",
   "metadata": {},
   "outputs": [
    {
     "name": "stdout",
     "output_type": "stream",
     "text": [
      "(94249, 20)\n"
     ]
    }
   ],
   "source": [
    "# Featuer extracion with pca\n",
    "\n",
    "from sklearn.decomposition import PCA\n",
    "\n",
    "image = PCA(n_components=20).fit_transform(image)\n",
    "\n",
    "print(np.shape(image))"
   ]
  },
  {
   "cell_type": "code",
   "execution_count": 10,
   "id": "5be1aeb9",
   "metadata": {},
   "outputs": [
    {
     "name": "stdout",
     "output_type": "stream",
     "text": [
      "(65974, 20) (28275, 20) (65974,) (28275,)\n"
     ]
    }
   ],
   "source": [
    "# Train and Test\n",
    "\n",
    "image = StandardScaler().fit_transform(image)\n",
    "X_train, X_test, y_train, y_test = train_test_split(image, groundTruth, test_size = 0.30 , train_size = 0.70 , random_state = 20, stratify=groundTruth)\n",
    "print(np.shape(X_train),np.shape(X_test),np.shape(y_train),np.shape(y_test))\n",
    "\n"
   ]
  },
  {
   "cell_type": "code",
   "execution_count": 11,
   "id": "432aed61",
   "metadata": {},
   "outputs": [],
   "source": [
    "from sklearn.svm import SVC\n",
    "from sklearn.metrics import accuracy_score\n",
    "import matplotlib.pyplot as plt"
   ]
  },
  {
   "cell_type": "code",
   "execution_count": null,
   "id": "b4240f0a",
   "metadata": {},
   "outputs": [
    {
     "name": "stdout",
     "output_type": "stream",
     "text": [
      "g= 0.1 c= 0.1 accuracy test= 0.9025994694960212\n",
      "g= 0.1 c= 0.1 accuracy train= 0.9122381544244702\n",
      "g= 1 c= 0.1 accuracy test= 0.5548364279398762\n",
      "g= 1 c= 0.1 accuracy train= 0.5742716827841271\n",
      "g= 10 c= 0.1 accuracy test= 0.36084880636604777\n",
      "g= 10 c= 0.1 accuracy train= 0.3608542759268803\n",
      "g= 0.1 c= 1 accuracy test= 0.9378603006189213\n",
      "g= 0.1 c= 1 accuracy train= 0.9670173098493345\n",
      "g= 1 c= 1 accuracy test= 0.7390627763041556\n",
      "g= 1 c= 1 accuracy train= 0.9986964561797071\n",
      "g= 10 c= 1 accuracy test= 0.36095490716180373\n",
      "g= 10 c= 1 accuracy train= 0.9999848425137176\n",
      "g= 0.1 c= 10 accuracy test= 0.9444385499557914\n",
      "g= 0.1 c= 10 accuracy train= 0.9935883833025131\n"
     ]
    }
   ],
   "source": [
    "G=[0.1,1,10]\n",
    "C=[0.1,1,10]\n",
    "accuracy_test = []\n",
    "accuracy_train = []\n",
    "\n",
    "for c in C:\n",
    "    for g in G:\n",
    "    \n",
    "        svm = SVC(kernel= 'rbf', random_state=1, C=c, gamma=g)\n",
    "        svm.fit(X_train,y_train)\n",
    "        predict_Ltest = svm.predict(X_test)\n",
    "        predict_Ltrain = svm.predict(X_train)\n",
    "        a1=accuracy_score(y_test,predict_Ltest)\n",
    "        a2=accuracy_score(y_train,predict_Ltrain)\n",
    "        accuracy_test.append([g,c,a1])\n",
    "        print('g=',g,'c=',c,'accuracy test=',a1)\n",
    "        accuracy_train.append([g,c,a2])\n",
    "        print('g=',g,'c=',c,'accuracy train=',a2)\n",
    "\n"
   ]
  }
 ],
 "metadata": {
  "kernelspec": {
   "display_name": "Python 3",
   "language": "python",
   "name": "python3"
  },
  "language_info": {
   "codemirror_mode": {
    "name": "ipython",
    "version": 3
   },
   "file_extension": ".py",
   "mimetype": "text/x-python",
   "name": "python",
   "nbconvert_exporter": "python",
   "pygments_lexer": "ipython3",
   "version": "3.8.8"
  }
 },
 "nbformat": 4,
 "nbformat_minor": 5
}
