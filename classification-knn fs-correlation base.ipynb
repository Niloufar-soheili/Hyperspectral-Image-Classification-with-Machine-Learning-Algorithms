{
 "cells": [
  {
   "cell_type": "code",
   "execution_count": 20,
   "id": "af4349d3",
   "metadata": {},
   "outputs": [],
   "source": [
    "# Import required libraries\n",
    "\n",
    "import numpy as np\n",
    "import matplotlib.pyplot as plt\n",
    "from scipy.io import loadmat\n",
    "\n",
    "from sklearn.preprocessing import StandardScaler, MinMaxScaler\n",
    "from sklearn.model_selection import train_test_split\n",
    "from sklearn.neighbors import KNeighborsClassifier"
   ]
  },
  {
   "cell_type": "code",
   "execution_count": 21,
   "id": "2b58e2e1",
   "metadata": {},
   "outputs": [
    {
     "name": "stdout",
     "output_type": "stream",
     "text": [
      "(94249, 162)\n",
      "(94249,)\n"
     ]
    }
   ],
   "source": [
    "# Importing the Data                                                                       Shape\n",
    "\n",
    "Endg_Truth = loadmat('end6_groundTruth.mat')      \n",
    "Ground_Truth = loadmat('groundTruth.mat')               \n",
    "Urban = loadmat('Urban_R162.mat')                 \n",
    "image = Urban['Y'].T                                                                #    94249*162  \n",
    "groundTruth = Ground_Truth ['groundTruth']                                          #     307*307\n",
    "image_shape = (Ground_Truth ['nRow'], Ground_Truth ['nCol'], image.shape[1])\n",
    "\n",
    "\n",
    "def hyper_to_2D(img):\n",
    "    \"\"\"\n",
    "    \n",
    "    Converts a 3D HSI cube (m x n x p) to a 2D matrix of points (N X p)\n",
    "+   N = m*n, p := number of bands\n",
    "\n",
    "    \"\"\"\n",
    "    img = np.array(img)\n",
    "    ndim = img.ndim\n",
    "\n",
    "    if ndim not in [2, 3]:\n",
    "      raise \"invalid dimention. ndim = 2 or 3\"\n",
    "\n",
    "    if ndim == 2:\n",
    "      m, n = np.shape(img)\n",
    "      \n",
    "      hyper_img = np.empty((m,n,1))\n",
    "      hyper_img[:,:,0] = img\n",
    "\n",
    "      return hyper_to_2D(hyper_img).ravel()\n",
    "\n",
    "    m, n, p = np.shape(img)\n",
    "    N = n * m\n",
    "    \n",
    "    dataset = img.T.reshape((p, N)).T\n",
    "\n",
    "    if p == 1:\n",
    "      return dataset.ravel()\n",
    "    \n",
    "    return dataset\n",
    "\n",
    "image = image\n",
    "groundTruth = hyper_to_2D(groundTruth)\n",
    "\n",
    "print(image.shape)\n",
    "print(groundTruth.shape)\n"
   ]
  },
  {
   "cell_type": "code",
   "execution_count": 22,
   "id": "9941730c",
   "metadata": {},
   "outputs": [
    {
     "name": "stdout",
     "output_type": "stream",
     "text": [
      "(65974, 162)\n",
      "(28275, 162)\n",
      "(65974,)\n",
      "(28275,)\n"
     ]
    }
   ],
   "source": [
    "# Standardization\n",
    "# Split into train (2/3) and test (1/3) sets\n",
    "\n",
    "image = StandardScaler().fit_transform(image)\n",
    "seed = 40\n",
    "X_train, X_test, y_train, y_test = train_test_split(image, groundTruth, test_size = 0.30 , train_size = 0.70 , random_state = seed , stratify=groundTruth)\n",
    "print(X_train.shape)\n",
    "print(X_test.shape)\n",
    "print(y_train.shape)\n",
    "print(y_test.shape)\n"
   ]
  },
  {
   "cell_type": "code",
   "execution_count": 24,
   "id": "6b6c06ff",
   "metadata": {},
   "outputs": [],
   "source": [
    "# Correlation base Feature Selection\n",
    "\n",
    "threshold = 0.008\n",
    "\n",
    "def Correlation_base_Feature_Selection(dataset, threshold):\n",
    "    nBand = dataset.shape[1]\n",
    "    \n",
    "    corr = np.corrcoef(dataset.T) \n",
    "    diff = 1 - corr\n",
    "    \n",
    "    correlated= np.where(diff < threshold, 0, 1)\n",
    "    np.fill_diagonal(correlated, 1)\n",
    "\n",
    "    # select bands\n",
    "    seleted_bands = np.arange(nBand)[correlated.all(axis=0)]\n",
    "    \n",
    "    return seleted_bands\n",
    "\n",
    "selected_features = Correlation_base_Feature_Selection(X_train, threshold)\n"
   ]
  },
  {
   "cell_type": "code",
   "execution_count": 25,
   "id": "eb0602ea",
   "metadata": {},
   "outputs": [
    {
     "name": "stdout",
     "output_type": "stream",
     "text": [
      "[ 51  52  53  81 161]\n"
     ]
    }
   ],
   "source": [
    "print(selected_features)"
   ]
  },
  {
   "cell_type": "code",
   "execution_count": 26,
   "id": "5d547e9c",
   "metadata": {},
   "outputs": [
    {
     "name": "stdout",
     "output_type": "stream",
     "text": [
      "number 1  0.9998484251371752 0.8082758620689655\n",
      "number 2  0.9099039015369691 0.8033244916003537\n",
      "number 3  0.904250159153606 0.8313351016799293\n",
      "number 4  0.8903507442325764 0.8295667550839965\n",
      "number 5  0.8866523175796526 0.8385145888594164\n",
      "number 6  0.8810592051414193 0.8383731211317418\n",
      "number 7  0.8791342043835451 0.8412732095490716\n",
      "number 8  0.8755115651620335 0.8395755968169761\n",
      "number 9  0.8738290841846789 0.8429708222811672\n"
     ]
    }
   ],
   "source": [
    "# KNN \n",
    "\n",
    "for k in range(1,10):\n",
    "    Model = KNeighborsClassifier(n_neighbors=k)\n",
    "    Model.fit(X_train[:, selected_features], y_train)\n",
    "    predict = Model.predict(X_test[:, selected_features])\n",
    "    acc_train = Model.score(X_train[:, selected_features], y_train)\n",
    "    acc_test = Model.score(X_test[:, selected_features], y_test)\n",
    "    print(f'number {k} ', acc_train , acc_test)\n",
    "    "
   ]
  },
  {
   "cell_type": "code",
   "execution_count": 35,
   "id": "79a14379",
   "metadata": {},
   "outputs": [
    {
     "data": {
      "image/png": "[encoded data removed]",
      "text/plain": [
       "<Figure size 432x288 with 1 Axes>"
      ]
     },
     "metadata": {
      "needs_background": "light"
     },
     "output_type": "display_data"
    }
   ],
   "source": [
    "\n",
    "x1 = np.array([1, 2,3,4,5,6,7,8,9])\n",
    "y1 = np.array([0.9998, 0.9099 ,0.9042 , 0.8903 ,0.8866 ,0.8810 ,0.8791,0.8755,0.8738 ])\n",
    "x2 = np.array([1, 2,3,4,5,6,7,8,9])\n",
    "y2 = np.array([0.8082,0.8033 ,0.8313 ,0.8295,0.8385 ,0.8383 ,0.8412 , 0.8395, 0.8429])\n",
    "plt.plot(x1, y1, x2, y2,'r')\n",
    "\n",
    "plt.xlabel('K - number')\n",
    "plt.ylabel('Accuracy')\n",
    "plt.legend(['Acc of Train', 'Acc of Test']);\n",
    "plt.grid()\n",
    "plt.show()"
   ]
  },
  {
   "cell_type": "code",
   "execution_count": null,
   "id": "0337a8a3",
   "metadata": {},
   "outputs": [],
   "source": []
  }
 ],
 "metadata": {
  "kernelspec": {
   "display_name": "Python 3",
   "language": "python",
   "name": "python3"
  },
  "language_info": {
   "codemirror_mode": {
    "name": "ipython",
    "version": 3
   },
   "file_extension": ".py",
   "mimetype": "text/x-python",
   "name": "python",
   "nbconvert_exporter": "python",
   "pygments_lexer": "ipython3",
   "version": "3.8.8"
  }
 },
 "nbformat": 4,
 "nbformat_minor": 5
}
