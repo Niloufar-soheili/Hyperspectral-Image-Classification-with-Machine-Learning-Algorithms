{
 "cells": [
  {
   "cell_type": "code",
   "execution_count": 1,
   "id": "fff43e5c",
   "metadata": {},
   "outputs": [],
   "source": [
    "# Import required libraries\n",
    "\n",
    "import numpy as np\n",
    "import matplotlib.pyplot as plt\n",
    "from scipy.io import loadmat\n",
    "\n",
    "from sklearn.preprocessing import StandardScaler, MinMaxScaler\n",
    "from sklearn.model_selection import train_test_split\n",
    "from sklearn.neighbors import KNeighborsClassifier\n",
    "\n",
    "from mlxtend.feature_selection import SequentialFeatureSelector as SFS\n",
    "from mlxtend.plotting import plot_sequential_feature_selection as plot_sfs\n"
   ]
  },
  {
   "cell_type": "code",
   "execution_count": 2,
   "id": "c40bcbb2",
   "metadata": {},
   "outputs": [
    {
     "name": "stdout",
     "output_type": "stream",
     "text": [
      "(94249, 162)\n",
      "(94249,)\n"
     ]
    }
   ],
   "source": [
    "# Importing the Data                                                                       Shape\n",
    "\n",
    "Endg_Truth = loadmat('end6_groundTruth.mat')      \n",
    "Ground_Truth = loadmat('groundTruth.mat')               \n",
    "Urban = loadmat('Urban_R162.mat')                 \n",
    "image = Urban['Y'].T                                                                #               94249*162  \n",
    "groundTruth = Ground_Truth ['groundTruth']                                          #               307*307\n",
    "image_shape = (Ground_Truth ['nRow'], Ground_Truth ['nCol'], image.shape[1])\n",
    "\n",
    "\n",
    "def hyper_to_2D(img):\n",
    "    \"\"\"\n",
    "    \n",
    "    Converts a 3D HSI cube (m x n x p) to a 2D matrix of points (N X p)\n",
    "+   N = m*n, p := number of bands\n",
    "\n",
    "    \"\"\"\n",
    "    img = np.array(img)\n",
    "    ndim = img.ndim\n",
    "\n",
    "    if ndim not in [2, 3]:\n",
    "      raise \"invalid dimention. ndim = 2 or 3\"\n",
    "\n",
    "    if ndim == 2:\n",
    "      m, n = np.shape(img)\n",
    "      \n",
    "      hyper_img = np.empty((m,n,1))\n",
    "      hyper_img[:,:,0] = img\n",
    "\n",
    "      return hyper_to_2D(hyper_img).ravel()\n",
    "\n",
    "    m, n, p = np.shape(img)\n",
    "    N = n * m\n",
    "    \n",
    "    dataset = img.T.reshape((p, N)).T\n",
    "\n",
    "    if p == 1:\n",
    "      return dataset.ravel()\n",
    "    \n",
    "    return dataset\n",
    "\n",
    "image = image\n",
    "groundTruth = hyper_to_2D(groundTruth)\n",
    "\n",
    "print(image.shape)\n",
    "print(groundTruth.shape)\n"
   ]
  },
  {
   "cell_type": "code",
   "execution_count": 3,
   "id": "e53340b9",
   "metadata": {},
   "outputs": [
    {
     "name": "stdout",
     "output_type": "stream",
     "text": [
      "(65974, 162)\n",
      "(28275, 162)\n",
      "(65974,)\n",
      "(28275,)\n"
     ]
    }
   ],
   "source": [
    "# Standardization\n",
    "# Split into train (2/3) and test (1/3) sets\n",
    "\n",
    "image = StandardScaler().fit_transform(image)\n",
    "seed = 40\n",
    "X_train, X_test, y_train, y_test = train_test_split(image, groundTruth, test_size = 0.30 , train_size = 0.70 , random_state = seed , stratify=groundTruth)\n",
    "print(X_train.shape)\n",
    "print(X_test.shape)\n",
    "print(y_train.shape)\n",
    "print(y_test.shape)\n"
   ]
  },
  {
   "cell_type": "code",
   "execution_count": 5,
   "id": "8f286d3d",
   "metadata": {},
   "outputs": [
    {
     "name": "stderr",
     "output_type": "stream",
     "text": [
      "[Parallel(n_jobs=1)]: Using backend SequentialBackend with 1 concurrent workers.\n",
      "[Parallel(n_jobs=1)]: Done   1 out of   1 | elapsed:    1.2s remaining:    0.0s\n",
      "[Parallel(n_jobs=1)]: Done 162 out of 162 | elapsed:  3.8min finished\n",
      "\n",
      "[2022-02-06 11:17:38] Features: 1/10 -- score: 0.5298143867913826[Parallel(n_jobs=1)]: Using backend SequentialBackend with 1 concurrent workers.\n",
      "[Parallel(n_jobs=1)]: Done   1 out of   1 | elapsed:    1.0s remaining:    0.0s\n",
      "[Parallel(n_jobs=1)]: Done 161 out of 161 | elapsed:  3.3min finished\n",
      "\n",
      "[2022-02-06 11:20:53] Features: 2/10 -- score: 0.7679693084510321[Parallel(n_jobs=1)]: Using backend SequentialBackend with 1 concurrent workers.\n",
      "[Parallel(n_jobs=1)]: Done   1 out of   1 | elapsed:    1.2s remaining:    0.0s\n",
      "[Parallel(n_jobs=1)]: Done 160 out of 160 | elapsed:  3.4min finished\n",
      "\n",
      "[2022-02-06 11:24:16] Features: 3/10 -- score: 0.8977627916923208[Parallel(n_jobs=1)]: Using backend SequentialBackend with 1 concurrent workers.\n",
      "[Parallel(n_jobs=1)]: Done   1 out of   1 | elapsed:    1.3s remaining:    0.0s\n",
      "[Parallel(n_jobs=1)]: Done 159 out of 159 | elapsed:  4.1min finished\n",
      "\n",
      "[2022-02-06 11:28:20] Features: 4/10 -- score: 0.9269560526294779[Parallel(n_jobs=1)]: Using backend SequentialBackend with 1 concurrent workers.\n",
      "[Parallel(n_jobs=1)]: Done   1 out of   1 | elapsed:    1.9s remaining:    0.0s\n",
      "[Parallel(n_jobs=1)]: Done 158 out of 158 | elapsed:  5.0min finished\n",
      "\n",
      "[2022-02-06 11:33:22] Features: 5/10 -- score: 0.9434171089399955[Parallel(n_jobs=1)]: Using backend SequentialBackend with 1 concurrent workers.\n",
      "[Parallel(n_jobs=1)]: Done   1 out of   1 | elapsed:    2.4s remaining:    0.0s\n",
      "[Parallel(n_jobs=1)]: Done 157 out of 157 | elapsed:  5.0min finished\n",
      "\n",
      "[2022-02-06 11:38:24] Features: 6/10 -- score: 0.9472216561514205[Parallel(n_jobs=1)]: Using backend SequentialBackend with 1 concurrent workers.\n",
      "[Parallel(n_jobs=1)]: Done   1 out of   1 | elapsed:    1.9s remaining:    0.0s\n",
      "[Parallel(n_jobs=1)]: Done 156 out of 156 | elapsed:  4.9min finished\n",
      "\n",
      "[2022-02-06 11:43:15] Features: 7/10 -- score: 0.9498438902522264[Parallel(n_jobs=1)]: Using backend SequentialBackend with 1 concurrent workers.\n",
      "[Parallel(n_jobs=1)]: Done   1 out of   1 | elapsed:    1.9s remaining:    0.0s\n",
      "[Parallel(n_jobs=1)]: Done 155 out of 155 | elapsed:  5.0min finished\n",
      "\n",
      "[2022-02-06 11:48:14] Features: 8/10 -- score: 0.9524206537322216[Parallel(n_jobs=1)]: Using backend SequentialBackend with 1 concurrent workers.\n",
      "[Parallel(n_jobs=1)]: Done   1 out of   1 | elapsed:    2.0s remaining:    0.0s\n",
      "[Parallel(n_jobs=1)]: Done 154 out of 154 | elapsed:  5.5min finished\n",
      "\n",
      "[2022-02-06 11:53:47] Features: 9/10 -- score: 0.9531482181291656[Parallel(n_jobs=1)]: Using backend SequentialBackend with 1 concurrent workers.\n",
      "[Parallel(n_jobs=1)]: Done   1 out of   1 | elapsed:    2.7s remaining:    0.0s\n",
      "[Parallel(n_jobs=1)]: Done 153 out of 153 | elapsed:  6.1min finished\n",
      "\n",
      "[2022-02-06 11:59:55] Features: 10/10 -- score: 0.9539212301709362"
     ]
    },
    {
     "data": {
      "image/png": "[encoded data removed]",
      "text/plain": [
       "<Figure size 432x288 with 1 Axes>"
      ]
     },
     "metadata": {
      "needs_background": "light"
     },
     "output_type": "display_data"
    }
   ],
   "source": [
    "# Build step forward feature selection\n",
    "\n",
    "from sklearn.neighbors import KNeighborsClassifier\n",
    "sfs = SFS(KNeighborsClassifier(n_neighbors=3),\n",
    "           k_features=10, \n",
    "           forward=True, \n",
    "           floating=False, \n",
    "           verbose=2,\n",
    "           scoring='accuracy',  # sklearn classifiers\n",
    "           cv=5)\n",
    "\n",
    "# Perform SFFS\n",
    "\n",
    "sfs = sfs.fit(X_train, y_train)\n",
    "fig = plot_sfs(sfs.get_metric_dict(), kind='std_err')\n",
    "\n",
    "plt.title('Sequential Forward Selection')\n",
    "plt.grid()\n",
    "plt.show()"
   ]
  },
  {
   "cell_type": "code",
   "execution_count": 7,
   "id": "7a406ebf",
   "metadata": {},
   "outputs": [
    {
     "name": "stdout",
     "output_type": "stream",
     "text": [
      "[14, 47, 61, 76, 106, 107, 115, 129, 142, 145]\n"
     ]
    }
   ],
   "source": [
    "# Which features?\n",
    "\n",
    "SFS_FS = list(sfs.k_feature_idx_)\n",
    "print(SFS_FS)\n"
   ]
  },
  {
   "cell_type": "code",
   "execution_count": 8,
   "id": "4a03355d",
   "metadata": {},
   "outputs": [
    {
     "name": "stdout",
     "output_type": "stream",
     "text": [
      "number 1  1.0 0.9497789566755084\n",
      "number 2  0.9760814866462546 0.946631299734748\n",
      "number 3  0.9785673143965805 0.9550486295313881\n",
      "number 4  0.9728984145269348 0.9529973474801061\n",
      "number 5  0.972170855185376 0.9572413793103448\n",
      "number 6  0.9699881771606996 0.9563572060123784\n",
      "number 7  0.9691848303877285 0.9573474801061008\n",
      "number 8  0.9677600266771759 0.9569938107869143\n",
      "number 9  0.9670173098493345 0.9571352785145889\n"
     ]
    }
   ],
   "source": [
    "# Build full model with selected features\n",
    "\n",
    "for k in range(1,10):\n",
    "    Model = KNeighborsClassifier(n_neighbors=k)\n",
    "    Model.fit(X_train[:, SFS_FS], y_train)\n",
    "    predict = Model.predict(X_test[:, SFS_FS])\n",
    "    acc_train = Model.score(X_train[:, SFS_FS], y_train)\n",
    "    acc_test = Model.score(X_test[:, SFS_FS], y_test)\n",
    "    print(f'number {k} ', acc_train , acc_test)\n",
    "    \n",
    "    "
   ]
  },
  {
   "cell_type": "code",
   "execution_count": 9,
   "id": "27a9f9d0",
   "metadata": {},
   "outputs": [
    {
     "data": {
      "image/png": "[encoded data removed]",
      "text/plain": [
       "<Figure size 432x288 with 1 Axes>"
      ]
     },
     "metadata": {
      "needs_background": "light"
     },
     "output_type": "display_data"
    }
   ],
   "source": [
    "\n",
    "x1 = np.array([1, 2,3,4,5,6,7,8,9])\n",
    "y1 = np.array([1.0, 0.9760 ,0.9785 , 0.9728 ,0.9721 ,0.9699 ,0.9691,0.9677 ,0.9670 ])\n",
    "x2 = np.array([1, 2,3,4,5,6,7,8,9])\n",
    "y2 = np.array([ 0.9497,0.9466, 0.9550 ,0.9529 ,0.9572,0.9563 ,0.9573 , 0.9569, 0.9571])\n",
    "plt.plot(x1, y1, x2, y2,'r')\n",
    "\n",
    "plt.xlabel('K - number')\n",
    "plt.ylabel('Accuracy')\n",
    "plt.legend(['Acc of Train', 'Acc of Test']);\n",
    "plt.grid()\n",
    "plt.show()"
   ]
  }
 ],
 "metadata": {
  "kernelspec": {
   "display_name": "Python 3",
   "language": "python",
   "name": "python3"
  },
  "language_info": {
   "codemirror_mode": {
    "name": "ipython",
    "version": 3
   },
   "file_extension": ".py",
   "mimetype": "text/x-python",
   "name": "python",
   "nbconvert_exporter": "python",
   "pygments_lexer": "ipython3",
   "version": "3.8.8"
  }
 },
 "nbformat": 4,
 "nbformat_minor": 5
}
