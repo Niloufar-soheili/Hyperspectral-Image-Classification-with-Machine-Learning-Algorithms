{
 "cells": [
  {
   "cell_type": "code",
   "execution_count": 1,
   "id": "d7450418",
   "metadata": {},
   "outputs": [],
   "source": [
    "# Import required libraries\n",
    "\n",
    "import numpy as np\n",
    "import matplotlib.pyplot as plt\n",
    "%matplotlib inline\n",
    "from scipy.io import loadmat\n",
    "from sklearn.preprocessing import StandardScaler, MinMaxScaler\n",
    "from sklearn.model_selection import train_test_split\n",
    "\n",
    "from matplotlib import cm\n",
    "from matplotlib.ticker import LinearLocator, FormatStrFormatter\n",
    "from sklearn.svm import SVC\n",
    "from sklearn.metrics import accuracy_score\n",
    "import matplotlib.pyplot as plt\n"
   ]
  },
  {
   "cell_type": "code",
   "execution_count": 2,
   "id": "55bbb48e",
   "metadata": {},
   "outputs": [
    {
     "name": "stdout",
     "output_type": "stream",
     "text": [
      "(94249, 162)\n",
      "(94249,)\n"
     ]
    }
   ],
   "source": [
    "# Importing the Data                                                                       Shape\n",
    "\n",
    "Endg_Truth = loadmat('end6_groundTruth.mat')      \n",
    "Ground_Truth = loadmat('groundTruth.mat')               \n",
    "Urban = loadmat('Urban_R162.mat')                 \n",
    "image = Urban['Y'].T                                                                #    94249*162  \n",
    "groundTruth = Ground_Truth ['groundTruth']                                          #     307*307\n",
    "image_shape = (Ground_Truth ['nRow'], Ground_Truth ['nCol'], image.shape[1])\n",
    "\n",
    "\n",
    "def hyper_to_2D(img):\n",
    "    \"\"\"\n",
    "    \n",
    "    Converts a 3D HSI cube (m x n x p) to a 2D matrix of points (N X p)\n",
    "+   N = m*n, p := number of bands\n",
    "\n",
    "    \"\"\"\n",
    "    img = np.array(img)\n",
    "    ndim = img.ndim\n",
    "\n",
    "    if ndim not in [2, 3]:\n",
    "      raise \"invalid dimention. ndim = 2 or 3\"\n",
    "\n",
    "    if ndim == 2:\n",
    "      m, n = np.shape(img)\n",
    "      \n",
    "      hyper_img = np.empty((m,n,1))\n",
    "      hyper_img[:,:,0] = img\n",
    "\n",
    "      return hyper_to_2D(hyper_img).ravel()\n",
    "\n",
    "    m, n, p = np.shape(img)\n",
    "    N = n * m\n",
    "    \n",
    "    dataset = img.T.reshape((p, N)).T\n",
    "\n",
    "    if p == 1:\n",
    "      return dataset.ravel()\n",
    "    \n",
    "    return dataset\n",
    "\n",
    "image = image\n",
    "groundTruth = hyper_to_2D(groundTruth)\n",
    "\n",
    "print(image.shape)\n",
    "print(groundTruth.shape)\n"
   ]
  },
  {
   "cell_type": "code",
   "execution_count": 3,
   "id": "021e6b34",
   "metadata": {},
   "outputs": [],
   "source": [
    "# Standardization\n",
    "\n",
    "image = StandardScaler().fit_transform(image)\n"
   ]
  },
  {
   "cell_type": "code",
   "execution_count": 4,
   "id": "9c06a139",
   "metadata": {},
   "outputs": [
    {
     "name": "stdout",
     "output_type": "stream",
     "text": [
      "(94249, 30)\n"
     ]
    }
   ],
   "source": [
    "# Featuer extracion with ica\n",
    "\n",
    "from sklearn.decomposition import FastICA\n",
    "image = FastICA(n_components=30,random_state=10).fit_transform(image)\n",
    "\n",
    "print(np.shape(image))"
   ]
  },
  {
   "cell_type": "code",
   "execution_count": 5,
   "id": "c1ed87de",
   "metadata": {},
   "outputs": [
    {
     "name": "stdout",
     "output_type": "stream",
     "text": [
      "(65974, 30)\n",
      "(28275, 30)\n",
      "(65974,)\n",
      "(28275,)\n"
     ]
    }
   ],
   "source": [
    "# Split into train (2/3) and test (1/3) sets\n",
    "\n",
    "from sklearn.model_selection import train_test_split\n",
    "seed = 40\n",
    "X_train, X_test, y_train, y_test = train_test_split(image, groundTruth, test_size = 0.30 , train_size = 0.70 , random_state = seed , stratify=groundTruth)\n",
    "print(X_train.shape)\n",
    "print(X_test.shape)\n",
    "print(y_train.shape)\n",
    "print(y_test.shape)\n"
   ]
  },
  {
   "cell_type": "code",
   "execution_count": 6,
   "id": "5cb22f3d",
   "metadata": {},
   "outputs": [
    {
     "name": "stdout",
     "output_type": "stream",
     "text": [
      "g= 0.1 c= 0.1 accuracy test= 0.36084880636604777\n",
      "g= 0.1 c= 0.1 accuracy train= 0.3608542759268803\n",
      "g= 1 c= 0.1 accuracy test= 0.36084880636604777\n",
      "g= 1 c= 0.1 accuracy train= 0.3608542759268803\n",
      "g= 10 c= 0.1 accuracy test= 0.5367992926613616\n",
      "g= 10 c= 0.1 accuracy train= 0.5361657622699851\n",
      "g= 0.1 c= 1 accuracy test= 0.36084880636604777\n",
      "g= 0.1 c= 1 accuracy train= 0.3608542759268803\n",
      "g= 1 c= 1 accuracy test= 0.5373651635720601\n",
      "g= 1 c= 1 accuracy train= 0.5365901718858944\n",
      "g= 10 c= 1 accuracy test= 0.826525198938992\n",
      "g= 10 c= 1 accuracy train= 0.825037135841392\n",
      "g= 0.1 c= 10 accuracy test= 0.5372590627763042\n",
      "g= 0.1 c= 10 accuracy train= 0.5366204868584594\n",
      "g= 1 c= 10 accuracy test= 0.8256763925729443\n",
      "g= 1 c= 10 accuracy train= 0.8247643010883076\n",
      "g= 10 c= 10 accuracy test= 0.8712997347480106\n",
      "g= 10 c= 10 accuracy train= 0.8697214054021281\n"
     ]
    }
   ],
   "source": [
    "G=[0.1,1,10]\n",
    "C=[0.1,1,10]\n",
    "accuracy_test = []\n",
    "accuracy_train = []\n",
    "\n",
    "for c in C:\n",
    "    for g in G:\n",
    "    \n",
    "        svm = SVC(kernel= 'rbf', random_state=1, C=c, gamma=g)\n",
    "        svm.fit(X_train,y_train)\n",
    "        predict_Ltest = svm.predict(X_test)\n",
    "        predict_Ltrain = svm.predict(X_train)\n",
    "        a1=accuracy_score(y_test,predict_Ltest)\n",
    "        a2=accuracy_score(y_train,predict_Ltrain)\n",
    "        accuracy_test.append([g,c,a1])\n",
    "        print('g=',g,'c=',c,'accuracy test=',a1)\n",
    "        accuracy_train.append([g,c,a2])\n",
    "        print('g=',g,'c=',c,'accuracy train=',a2)\n",
    "\n"
   ]
  },
  {
   "cell_type": "code",
   "execution_count": null,
   "id": "20856cf4",
   "metadata": {},
   "outputs": [],
   "source": []
  }
 ],
 "metadata": {
  "kernelspec": {
   "display_name": "Python 3",
   "language": "python",
   "name": "python3"
  },
  "language_info": {
   "codemirror_mode": {
    "name": "ipython",
    "version": 3
   },
   "file_extension": ".py",
   "mimetype": "text/x-python",
   "name": "python",
   "nbconvert_exporter": "python",
   "pygments_lexer": "ipython3",
   "version": "3.8.8"
  }
 },
 "nbformat": 4,
 "nbformat_minor": 5
}
