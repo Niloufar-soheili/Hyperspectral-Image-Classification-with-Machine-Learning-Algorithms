{
 "cells": [
  {
   "cell_type": "code",
   "execution_count": 1,
   "id": "e0cb49c5",
   "metadata": {},
   "outputs": [],
   "source": [
    "# Import required libraries\n",
    "\n",
    "import numpy as np\n",
    "import matplotlib.pyplot as plt\n",
    "from scipy.io import loadmat\n",
    "\n",
    "from sklearn.preprocessing import StandardScaler, MinMaxScaler\n",
    "from sklearn.model_selection import train_test_split"
   ]
  },
  {
   "cell_type": "code",
   "execution_count": 2,
   "id": "10b206d5",
   "metadata": {},
   "outputs": [
    {
     "name": "stdout",
     "output_type": "stream",
     "text": [
      "(94249, 162)\n",
      "(94249,)\n"
     ]
    }
   ],
   "source": [
    "# Importing the Data                                                                       Shape\n",
    "\n",
    "Endg_Truth = loadmat('end6_groundTruth.mat')      \n",
    "Ground_Truth = loadmat('groundTruth.mat')               \n",
    "Urban = loadmat('Urban_R162.mat')                 \n",
    "image = Urban['Y'].T                                                                #    94249*162  \n",
    "groundTruth = Ground_Truth ['groundTruth']                                          #     307*307\n",
    "image_shape = (Ground_Truth ['nRow'], Ground_Truth ['nCol'], image.shape[1])\n",
    "\n",
    "\n",
    "def hyper_to_2D(img):\n",
    "    \"\"\"\n",
    "    \n",
    "    Converts a 3D HSI cube (m x n x p) to a 2D matrix of points (N X p)\n",
    "+   N = m*n, p := number of bands\n",
    "\n",
    "    \"\"\"\n",
    "    img = np.array(img)\n",
    "    ndim = img.ndim\n",
    "\n",
    "    if ndim not in [2, 3]:\n",
    "      raise \"invalid dimention. ndim = 2 or 3\"\n",
    "\n",
    "    if ndim == 2:\n",
    "      m, n = np.shape(img)\n",
    "      \n",
    "      hyper_img = np.empty((m,n,1))\n",
    "      hyper_img[:,:,0] = img\n",
    "\n",
    "      return hyper_to_2D(hyper_img).ravel()\n",
    "\n",
    "    m, n, p = np.shape(img)\n",
    "    N = n * m\n",
    "    \n",
    "    dataset = img.T.reshape((p, N)).T\n",
    "\n",
    "    if p == 1:\n",
    "      return dataset.ravel()\n",
    "    \n",
    "    return dataset\n",
    "\n",
    "image = image\n",
    "groundTruth = hyper_to_2D(groundTruth)\n",
    "\n",
    "\n",
    "print(image.shape)\n",
    "print(groundTruth.shape)\n"
   ]
  },
  {
   "cell_type": "code",
   "execution_count": 3,
   "id": "06a3de84",
   "metadata": {},
   "outputs": [],
   "source": [
    "# Standardization\n",
    "\n",
    "image = StandardScaler().fit_transform(image)"
   ]
  },
  {
   "cell_type": "code",
   "execution_count": 4,
   "id": "ba28ba6e",
   "metadata": {},
   "outputs": [
    {
     "name": "stdout",
     "output_type": "stream",
     "text": [
      "(94249, 30)\n"
     ]
    }
   ],
   "source": [
    "# Featuer extracion with ica\n",
    "\n",
    "from sklearn.decomposition import FastICA\n",
    "image = FastICA(n_components=30,random_state=10).fit_transform(image)\n",
    "\n",
    "print(np.shape(image))"
   ]
  },
  {
   "cell_type": "code",
   "execution_count": 5,
   "id": "8b2ed3bc",
   "metadata": {},
   "outputs": [
    {
     "name": "stdout",
     "output_type": "stream",
     "text": [
      "(65974, 30)\n",
      "(28275, 30)\n",
      "(65974,)\n",
      "(28275,)\n"
     ]
    }
   ],
   "source": [
    "# Split into train (2/3) and test (1/3) sets\n",
    "\n",
    "seed = 40\n",
    "X_train, X_test, y_train, y_test = train_test_split(image, groundTruth, test_size = 0.30 , train_size = 0.70 , random_state = seed , stratify=groundTruth)\n",
    "print(X_train.shape)\n",
    "print(X_test.shape)\n",
    "print(y_train.shape)\n",
    "print(y_test.shape)\n"
   ]
  },
  {
   "cell_type": "code",
   "execution_count": 6,
   "id": "d5dc515c",
   "metadata": {},
   "outputs": [
    {
     "name": "stdout",
     "output_type": "stream",
     "text": [
      "k is = 1 , accuracy is  0.8258178603006189 1.0\n",
      "k is = 2 , accuracy is  0.8333863837312113 0.9304119804771577\n",
      "k is = 3 , accuracy is  0.8481343943412909 0.9215903234607573\n",
      "k is = 4 , accuracy is  0.8490185676392573 0.9122987843696001\n",
      "k is = 5 , accuracy is  0.8514235190097259 0.9036287022160245\n",
      "k is = 6 , accuracy is  0.8534394341290893 0.8995968108648862\n",
      "k is = 7 , accuracy is  0.8502210433244916 0.8928517294691848\n",
      "k is = 8 , accuracy is  0.8530150309460655 0.8921848000727559\n",
      "k is = 9 , accuracy is  0.852449160035367 0.8861672780186134\n"
     ]
    }
   ],
   "source": [
    "from sklearn.neighbors import KNeighborsClassifier\n",
    "\n",
    "for k in range(1,10):\n",
    "    Model = KNeighborsClassifier(n_neighbors=k)\n",
    "    Model = KNeighborsClassifier(n_neighbors = k)\n",
    "    Model.fit(X_train, y_train)\n",
    "    pred = Model.predict(X_test)\n",
    "    acc_train = Model.score(X_train, y_train)\n",
    "    acc_test = Model.score(X_test, y_test)\n",
    "    print(f'k is = {k} , accuracy is = ', acc_test, acc_train)"
   ]
  },
  {
   "cell_type": "code",
   "execution_count": 6,
   "id": "1d5078ae",
   "metadata": {},
   "outputs": [
    {
     "data": {
      "image/png": "[encoded data removed]",
      "text/plain": [
       "<Figure size 432x288 with 1 Axes>"
      ]
     },
     "metadata": {
      "needs_background": "light"
     },
     "output_type": "display_data"
    }
   ],
   "source": [
    "x1 = np.array([1, 2,3,4,5,6,7,8,9])\n",
    "y1 = np.array([1.0, 0.9304,0.9215,0.9122,0.9036,0.8995,0.8928,0.8921,0.8861])\n",
    "x2 = np.array([1, 2,3,4,5,6,7,8,9])\n",
    "y2 = np.array([0.8258,0.8333,0.8481, 0.8490,0.8514,0.8534,0.8502,0.8530,0.8524])\n",
    "plt.plot(x1, y1, x2, y2,\"r\")\n",
    "\n",
    "plt.xlabel('K - number')\n",
    "plt.ylabel('Accuracy')\n",
    "plt.legend(['Acc of Train', 'Acc of Test']);\n",
    "plt.grid()\n",
    "plt.show()"
   ]
  },
  {
   "cell_type": "code",
   "execution_count": null,
   "id": "441d5fdf",
   "metadata": {},
   "outputs": [],
   "source": []
  }
 ],
 "metadata": {
  "kernelspec": {
   "display_name": "Python 3",
   "language": "python",
   "name": "python3"
  },
  "language_info": {
   "codemirror_mode": {
    "name": "ipython",
    "version": 3
   },
   "file_extension": ".py",
   "mimetype": "text/x-python",
   "name": "python",
   "nbconvert_exporter": "python",
   "pygments_lexer": "ipython3",
   "version": "3.8.8"
  }
 },
 "nbformat": 4,
 "nbformat_minor": 5
}
