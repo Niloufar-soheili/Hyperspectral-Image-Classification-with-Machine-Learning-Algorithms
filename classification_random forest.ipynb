{
 "cells": [
  {
   "cell_type": "code",
   "execution_count": 1,
   "id": "3f2029a1",
   "metadata": {},
   "outputs": [],
   "source": [
    "# Import required libraries\n",
    "\n",
    "import numpy as np\n",
    "import matplotlib.pyplot as plt\n",
    "from scipy.io import loadmat\n",
    "\n",
    "from sklearn.preprocessing import StandardScaler, MinMaxScaler\n",
    "from sklearn.model_selection import train_test_split\n",
    "from sklearn.neighbors import KNeighborsClassifier\n",
    "\n",
    "from mlxtend.feature_selection import SequentialFeatureSelector as SFS\n",
    "from mlxtend.plotting import plot_sequential_feature_selection as plot_sfs\n",
    "from sklearn.ensemble import RandomForestClassifier"
   ]
  },
  {
   "cell_type": "code",
   "execution_count": 2,
   "id": "f1ab157a",
   "metadata": {},
   "outputs": [
    {
     "name": "stdout",
     "output_type": "stream",
     "text": [
      "(94249, 162)\n",
      "(94249,)\n"
     ]
    }
   ],
   "source": [
    "# Importing the Data                                                                       Shape\n",
    "\n",
    "Endg_Truth = loadmat('end6_groundTruth.mat')      \n",
    "Ground_Truth = loadmat('groundTruth.mat')               \n",
    "Urban = loadmat('Urban_R162.mat')                 \n",
    "image = Urban['Y'].T                                                                #    94249*162  \n",
    "groundTruth = Ground_Truth ['groundTruth']                                          #     307*307\n",
    "image_shape = (Ground_Truth ['nRow'], Ground_Truth ['nCol'], image.shape[1])\n",
    "\n",
    "\n",
    "def hyper_to_2D(img):\n",
    "    \"\"\"\n",
    "    \n",
    "    Converts a 3D HSI cube (m x n x p) to a 2D matrix of points (N X p)\n",
    "+   N = m*n, p := number of bands\n",
    "\n",
    "    \"\"\"\n",
    "    img = np.array(img)\n",
    "    ndim = img.ndim\n",
    "\n",
    "    if ndim not in [2, 3]:\n",
    "      raise \"invalid dimention. ndim = 2 or 3\"\n",
    "\n",
    "    if ndim == 2:\n",
    "      m, n = np.shape(img)\n",
    "      \n",
    "      hyper_img = np.empty((m,n,1))\n",
    "      hyper_img[:,:,0] = img\n",
    "\n",
    "      return hyper_to_2D(hyper_img).ravel()\n",
    "\n",
    "    m, n, p = np.shape(img)\n",
    "    N = n * m\n",
    "    \n",
    "    dataset = img.T.reshape((p, N)).T\n",
    "\n",
    "    if p == 1:\n",
    "      return dataset.ravel()\n",
    "    \n",
    "    return dataset\n",
    "\n",
    "image = image\n",
    "groundTruth = hyper_to_2D(groundTruth)\n",
    "\n",
    "print(image.shape)\n",
    "print(groundTruth.shape)\n"
   ]
  },
  {
   "cell_type": "code",
   "execution_count": 3,
   "id": "0931e377",
   "metadata": {},
   "outputs": [
    {
     "name": "stdout",
     "output_type": "stream",
     "text": [
      "(65974, 162)\n",
      "(28275, 162)\n",
      "(65974,)\n",
      "(28275,)\n"
     ]
    }
   ],
   "source": [
    "# Standardization\n",
    "# Split into train (2/3) and test (1/3) sets\n",
    "\n",
    "image = StandardScaler().fit_transform(image)\n",
    "seed = 40\n",
    "X_train, X_test, y_train, y_test = train_test_split(image, groundTruth, test_size = 0.30 , train_size = 0.70 , random_state = seed , stratify=groundTruth)\n",
    "print(X_train.shape)\n",
    "print(X_test.shape)\n",
    "print(y_train.shape)\n",
    "print(y_test.shape)\n"
   ]
  },
  {
   "cell_type": "code",
   "execution_count": 4,
   "id": "f60e6bff",
   "metadata": {},
   "outputs": [],
   "source": [
    "# Build RF classifier to use in feature selection\n",
    "clf = RandomForestClassifier(n_estimators=100, n_jobs=-1)\n",
    "\n",
    "# Build step forward feature selection\n",
    "sfs = SFS (clf,\n",
    "           k_features=5,\n",
    "           forward=True,\n",
    "           floating=False,\n",
    "           verbose=2,\n",
    "           scoring='accuracy',\n",
    "           cv=5)\n"
   ]
  },
  {
   "cell_type": "code",
   "execution_count": 5,
   "id": "f2f686a8",
   "metadata": {},
   "outputs": [
    {
     "name": "stderr",
     "output_type": "stream",
     "text": [
      "[Parallel(n_jobs=1)]: Using backend SequentialBackend with 1 concurrent workers.\n",
      "[Parallel(n_jobs=1)]: Done   1 out of   1 | elapsed:    6.8s remaining:    0.0s\n",
      "[Parallel(n_jobs=1)]: Done 162 out of 162 | elapsed: 20.3min finished\n",
      "\n",
      "[2022-02-07 10:17:58] Features: 1/5 -- score: 0.6059205353771849[Parallel(n_jobs=1)]: Using backend SequentialBackend with 1 concurrent workers.\n",
      "[Parallel(n_jobs=1)]: Done   1 out of   1 | elapsed:   15.6s remaining:    0.0s\n",
      "[Parallel(n_jobs=1)]: Done 161 out of 161 | elapsed: 39.7min finished\n",
      "\n",
      "[2022-02-07 10:57:38] Features: 2/5 -- score: 0.759556866794953[Parallel(n_jobs=1)]: Using backend SequentialBackend with 1 concurrent workers.\n",
      "[Parallel(n_jobs=1)]: Done   1 out of   1 | elapsed:   15.7s remaining:    0.0s\n",
      "[Parallel(n_jobs=1)]: Done 160 out of 160 | elapsed: 35.2min finished\n",
      "\n",
      "[2022-02-07 11:32:52] Features: 3/5 -- score: 0.901991708771593[Parallel(n_jobs=1)]: Using backend SequentialBackend with 1 concurrent workers.\n",
      "[Parallel(n_jobs=1)]: Done   1 out of   1 | elapsed:   15.3s remaining:    0.0s\n",
      "[Parallel(n_jobs=1)]: Done 159 out of 159 | elapsed: 33.1min finished\n",
      "\n",
      "[2022-02-07 12:05:56] Features: 4/5 -- score: 0.9313062817546047[Parallel(n_jobs=1)]: Using backend SequentialBackend with 1 concurrent workers.\n",
      "[Parallel(n_jobs=1)]: Done   1 out of   1 | elapsed:   12.8s remaining:    0.0s\n",
      "[Parallel(n_jobs=1)]: Done 158 out of 158 | elapsed: 32.0min finished\n",
      "\n",
      "[2022-02-07 12:37:54] Features: 5/5 -- score: 0.9446296952069169"
     ]
    },
    {
     "data": {
      "image/png": "[encoded data removed]",
      "text/plain": [
       "<Figure size 432x288 with 1 Axes>"
      ]
     },
     "metadata": {
      "needs_background": "light"
     },
     "output_type": "display_data"
    }
   ],
   "source": [
    "# Perform SFFS\n",
    "\n",
    "sfs = sfs.fit(X_train, y_train)\n",
    "fig = plot_sfs(sfs.get_metric_dict(), kind='std_err')\n",
    "\n",
    "plt.title('Sequential Forward Selection')\n",
    "plt.grid()\n",
    "plt.show()"
   ]
  },
  {
   "cell_type": "code",
   "execution_count": 6,
   "id": "f85d57fa",
   "metadata": {},
   "outputs": [
    {
     "name": "stdout",
     "output_type": "stream",
     "text": [
      "[14, 48, 76, 107, 129]\n"
     ]
    }
   ],
   "source": [
    "# Which features?\n",
    "\n",
    "SFS_FS = list(sfs.k_feature_idx_)\n",
    "print(SFS_FS)\n"
   ]
  },
  {
   "cell_type": "code",
   "execution_count": 7,
   "id": "9398b0a1",
   "metadata": {},
   "outputs": [
    {
     "name": "stdout",
     "output_type": "stream",
     "text": [
      "1.0 0.9470557029177719\n"
     ]
    }
   ],
   "source": [
    "# Build full model with selected features\n",
    "\n",
    "Model = RandomForestClassifier(n_estimators=100, n_jobs=-1)\n",
    "Model.fit(X_train[:, SFS_FS], y_train)\n",
    "predict = Model.predict(X_test[:, SFS_FS])\n",
    "acc_train = Model.score(X_train[:, SFS_FS], y_train)\n",
    "acc_test = Model.score(X_test[:, SFS_FS], y_test)\n",
    "print( acc_train , acc_test)\n"
   ]
  },
  {
   "cell_type": "code",
   "execution_count": null,
   "id": "fe92fd93",
   "metadata": {},
   "outputs": [],
   "source": []
  }
 ],
 "metadata": {
  "kernelspec": {
   "display_name": "Python 3",
   "language": "python",
   "name": "python3"
  },
  "language_info": {
   "codemirror_mode": {
    "name": "ipython",
    "version": 3
   },
   "file_extension": ".py",
   "mimetype": "text/x-python",
   "name": "python",
   "nbconvert_exporter": "python",
   "pygments_lexer": "ipython3",
   "version": "3.8.8"
  }
 },
 "nbformat": 4,
 "nbformat_minor": 5
}
