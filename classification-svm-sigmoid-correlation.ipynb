{
 "cells": [
  {
   "cell_type": "code",
   "execution_count": 1,
   "id": "faf451d8",
   "metadata": {},
   "outputs": [],
   "source": [
    "# Import required libraries\n",
    "\n",
    "import numpy as np\n",
    "import matplotlib.pyplot as plt\n",
    "%matplotlib inline\n",
    "from scipy.io import loadmat\n",
    "from sklearn.preprocessing import StandardScaler, MinMaxScaler\n",
    "from sklearn.model_selection import train_test_split\n",
    "\n",
    "from matplotlib import cm\n",
    "from matplotlib.ticker import LinearLocator, FormatStrFormatter\n",
    "from sklearn.svm import SVC\n",
    "from sklearn.metrics import accuracy_score\n",
    "import matplotlib.pyplot as plt\n"
   ]
  },
  {
   "cell_type": "code",
   "execution_count": 2,
   "id": "62c26576",
   "metadata": {},
   "outputs": [
    {
     "name": "stdout",
     "output_type": "stream",
     "text": [
      "(94249, 162)\n",
      "(94249,)\n"
     ]
    }
   ],
   "source": [
    "# Importing the Data                                                                       Shape\n",
    "\n",
    "Endg_Truth = loadmat('end6_groundTruth.mat')      \n",
    "Ground_Truth = loadmat('groundTruth.mat')               \n",
    "Urban = loadmat('Urban_R162.mat')                 \n",
    "image = Urban['Y'].T                                                                #    94249*162  \n",
    "groundTruth = Ground_Truth ['groundTruth']                                          #     307*307\n",
    "image_shape = (Ground_Truth ['nRow'], Ground_Truth ['nCol'], image.shape[1])\n",
    "\n",
    "\n",
    "def hyper_to_2D(img):\n",
    "    \"\"\"\n",
    "    \n",
    "    Converts a 3D HSI cube (m x n x p) to a 2D matrix of points (N X p)\n",
    "+   N = m*n, p := number of bands\n",
    "\n",
    "    \"\"\"\n",
    "    img = np.array(img)\n",
    "    ndim = img.ndim\n",
    "\n",
    "    if ndim not in [2, 3]:\n",
    "      raise \"invalid dimention. ndim = 2 or 3\"\n",
    "\n",
    "    if ndim == 2:\n",
    "      m, n = np.shape(img)\n",
    "      \n",
    "      hyper_img = np.empty((m,n,1))\n",
    "      hyper_img[:,:,0] = img\n",
    "\n",
    "      return hyper_to_2D(hyper_img).ravel()\n",
    "\n",
    "    m, n, p = np.shape(img)\n",
    "    N = n * m\n",
    "    \n",
    "    dataset = img.T.reshape((p, N)).T\n",
    "\n",
    "    if p == 1:\n",
    "      return dataset.ravel()\n",
    "    \n",
    "    return dataset\n",
    "\n",
    "image = image\n",
    "groundTruth = hyper_to_2D(groundTruth)\n",
    "\n",
    "print(image.shape)\n",
    "print(groundTruth.shape)\n"
   ]
  },
  {
   "cell_type": "code",
   "execution_count": 3,
   "id": "f4fdb0e3",
   "metadata": {},
   "outputs": [
    {
     "name": "stdout",
     "output_type": "stream",
     "text": [
      "(65974, 162)\n",
      "(28275, 162)\n",
      "(65974,)\n",
      "(28275,)\n"
     ]
    }
   ],
   "source": [
    "# Standardization\n",
    "# Split into train (2/3) and test (1/3) sets\n",
    "\n",
    "image = StandardScaler().fit_transform(image)\n",
    "seed = 40\n",
    "X_train, X_test, y_train, y_test = train_test_split(image, groundTruth, test_size = 0.30 , train_size = 0.70 , random_state = seed , stratify=groundTruth)\n",
    "print(X_train.shape)\n",
    "print(X_test.shape)\n",
    "print(y_train.shape)\n",
    "print(y_test.shape)\n"
   ]
  },
  {
   "cell_type": "code",
   "execution_count": 4,
   "id": "b3bbcb04",
   "metadata": {},
   "outputs": [],
   "source": [
    "# Correlation base Feature Selection\n",
    "\n",
    "selected_features = [ 51 , 52 , 53 , 81 ,161]\n"
   ]
  },
  {
   "cell_type": "code",
   "execution_count": 5,
   "id": "7762413c",
   "metadata": {},
   "outputs": [
    {
     "name": "stdout",
     "output_type": "stream",
     "text": [
      "g= 0.1 coef= 0.25 accuracy test= 0.43706454465075156\n",
      "g= 0.1 coef= 0.25 accuracy train= 0.4398096219722921\n",
      "g= 1 coef= 0.25 accuracy test= 0.3359504862953139\n",
      "g= 1 coef= 0.25 accuracy train= 0.33663261284748536\n",
      "g= 10 coef= 0.25 accuracy test= 0.3485057471264368\n",
      "g= 10 coef= 0.25 accuracy train= 0.3453178524873435\n",
      "g= 0.1 coef= 0.5 accuracy test= 0.5054288240495137\n",
      "g= 0.1 coef= 0.5 accuracy train= 0.5085639797495983\n",
      "g= 1 coef= 0.5 accuracy test= 0.41549071618037137\n",
      "g= 1 coef= 0.5 accuracy train= 0.4210598114408706\n",
      "g= 10 coef= 0.5 accuracy test= 0.3525022104332449\n",
      "g= 10 coef= 0.5 accuracy train= 0.3491223815442447\n",
      "g= 0.1 coef= 4 accuracy test= 0.433209549071618\n",
      "g= 0.1 coef= 4 accuracy train= 0.4345651317185558\n",
      "g= 1 coef= 4 accuracy test= 0.2499027409372237\n",
      "g= 1 coef= 4 accuracy train= 0.24320186740231\n",
      "g= 10 coef= 4 accuracy test= 0.39840848806366047\n",
      "g= 10 coef= 4 accuracy train= 0.3962621638827417\n"
     ]
    }
   ],
   "source": [
    "# Tune parameters\n",
    "# kernel sigmoid\n",
    "\n",
    "G=[0.1,1,10]\n",
    "Coef=[0.25,0.5,4]\n",
    "accuracy_test = []\n",
    "accuracy_train = []\n",
    "\n",
    "for coef in Coef:\n",
    "    for g in G:\n",
    "    \n",
    "        svm = SVC(kernel= 'sigmoid', random_state=1, C=100, gamma=g,coef0=coef)\n",
    "        svm.fit(X_train[:, selected_features],y_train)\n",
    "        predict_Ltest = svm.predict(X_test[:, selected_features])\n",
    "        predict_Ltrain = svm.predict(X_train[:, selected_features])\n",
    "        a1=accuracy_score(y_test,predict_Ltest)\n",
    "        a2=accuracy_score(y_train,predict_Ltrain)\n",
    "        accuracy_test.append([g,coef,a1])\n",
    "        print('g=',g,'coef=',coef,'accuracy test=',a1)\n",
    "        accuracy_train.append([g,coef,a2])\n",
    "        print('g=',g,'coef=',coef,'accuracy train=',a2)"
   ]
  },
  {
   "cell_type": "code",
   "execution_count": null,
   "id": "c3e9dbe3",
   "metadata": {},
   "outputs": [],
   "source": []
  }
 ],
 "metadata": {
  "kernelspec": {
   "display_name": "Python 3",
   "language": "python",
   "name": "python3"
  },
  "language_info": {
   "codemirror_mode": {
    "name": "ipython",
    "version": 3
   },
   "file_extension": ".py",
   "mimetype": "text/x-python",
   "name": "python",
   "nbconvert_exporter": "python",
   "pygments_lexer": "ipython3",
   "version": "3.8.8"
  }
 },
 "nbformat": 4,
 "nbformat_minor": 5
}
