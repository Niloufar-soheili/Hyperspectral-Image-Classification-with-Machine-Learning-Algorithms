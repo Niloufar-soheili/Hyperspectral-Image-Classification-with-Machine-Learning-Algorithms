{
 "cells": [
  {
   "cell_type": "code",
   "execution_count": 1,
   "id": "049ff663",
   "metadata": {},
   "outputs": [],
   "source": [
    "import numpy as np\n",
    "import matplotlib.pyplot as plt\n",
    "%matplotlib inline\n",
    "from scipy.io import loadmat\n",
    "from sklearn.preprocessing import StandardScaler, MinMaxScaler\n",
    "from sklearn.model_selection import train_test_split\n",
    "\n",
    "from matplotlib import cm\n",
    "from matplotlib.ticker import LinearLocator, FormatStrFormatter\n",
    "from sklearn.svm import SVC\n",
    "from sklearn.metrics import accuracy_score\n",
    "import matplotlib.pyplot as plt\n"
   ]
  },
  {
   "cell_type": "code",
   "execution_count": 2,
   "id": "75e7083c",
   "metadata": {},
   "outputs": [
    {
     "name": "stdout",
     "output_type": "stream",
     "text": [
      "(94249, 162)\n",
      "(94249,)\n"
     ]
    }
   ],
   "source": [
    "# Importing the Data                                                                       Shape\n",
    "\n",
    "Endg_Truth = loadmat('end6_groundTruth.mat')      \n",
    "Ground_Truth = loadmat('groundTruth.mat')               \n",
    "Urban = loadmat('Urban_R162.mat')                 \n",
    "image = Urban['Y'].T                                                                #    94249*162  \n",
    "groundTruth = Ground_Truth ['groundTruth']                                          #     307*307\n",
    "image_shape = (Ground_Truth ['nRow'], Ground_Truth ['nCol'], image.shape[1])\n",
    "\n",
    "\n",
    "def hyper_to_2D(img):\n",
    "    \"\"\"\n",
    "    \n",
    "    Converts a 3D HSI cube (m x n x p) to a 2D matrix of points (N X p)\n",
    "+   N = m*n, p := number of bands\n",
    "\n",
    "    \"\"\"\n",
    "    img = np.array(img)\n",
    "    ndim = img.ndim\n",
    "\n",
    "    if ndim not in [2, 3]:\n",
    "      raise \"invalid dimention. ndim = 2 or 3\"\n",
    "\n",
    "    if ndim == 2:\n",
    "      m, n = np.shape(img)\n",
    "      \n",
    "      hyper_img = np.empty((m,n,1))\n",
    "      hyper_img[:,:,0] = img\n",
    "\n",
    "      return hyper_to_2D(hyper_img).ravel()\n",
    "\n",
    "    m, n, p = np.shape(img)\n",
    "    N = n * m\n",
    "    \n",
    "    dataset = img.T.reshape((p, N)).T\n",
    "\n",
    "    if p == 1:\n",
    "      return dataset.ravel()\n",
    "    \n",
    "    return dataset\n",
    "\n",
    "image = image\n",
    "groundTruth = hyper_to_2D(groundTruth)\n",
    "\n",
    "print(image.shape)\n",
    "print(groundTruth.shape)\n"
   ]
  },
  {
   "cell_type": "code",
   "execution_count": 3,
   "id": "3f2daed7",
   "metadata": {},
   "outputs": [
    {
     "name": "stdout",
     "output_type": "stream",
     "text": [
      "(65974, 162)\n",
      "(28275, 162)\n",
      "(65974,)\n",
      "(28275,)\n"
     ]
    }
   ],
   "source": [
    "# Standardization\n",
    "# Split into train (2/3) and test (1/3) sets\n",
    "\n",
    "image = StandardScaler().fit_transform(image)\n",
    "seed = 40\n",
    "X_train, X_test, y_train, y_test = train_test_split(image, groundTruth, test_size = 0.30 , train_size = 0.70 , random_state = seed , stratify=groundTruth)\n",
    "print(X_train.shape)\n",
    "print(X_test.shape)\n",
    "print(y_train.shape)\n",
    "print(y_test.shape)\n"
   ]
  },
  {
   "cell_type": "code",
   "execution_count": 4,
   "id": "80905f12",
   "metadata": {},
   "outputs": [],
   "source": [
    "# Correlation base Feature Selection\n",
    "\n",
    "selected_features = [ 51 , 52 , 53 , 81 ,161]\n"
   ]
  },
  {
   "cell_type": "code",
   "execution_count": 5,
   "id": "4986add9",
   "metadata": {},
   "outputs": [
    {
     "name": "stdout",
     "output_type": "stream",
     "text": [
      "g= 0.1 c= 0.1 accuracy test= 0.7973474801061008\n",
      "g= 0.1 c= 0.1 accuracy train= 0.8005123230363477\n",
      "g= 1 c= 0.1 accuracy test= 0.8312643678160919\n",
      "g= 1 c= 0.1 accuracy train= 0.8361930457452936\n",
      "g= 10 c= 0.1 accuracy test= 0.8387267904509284\n",
      "g= 10 c= 0.1 accuracy train= 0.8472883257040652\n",
      "g= 0.1 c= 1 accuracy test= 0.8298850574712644\n",
      "g= 0.1 c= 1 accuracy train= 0.8340558401794647\n",
      "g= 1 c= 1 accuracy test= 0.8480636604774536\n",
      "g= 1 c= 1 accuracy train= 0.8547003364961955\n",
      "g= 10 c= 1 accuracy test= 0.8560212201591512\n",
      "g= 10 c= 1 accuracy train= 0.8748143207930397\n",
      "g= 0.1 c= 10 accuracy test= 0.8431122900088417\n",
      "g= 0.1 c= 10 accuracy train= 0.8478946251553643\n",
      "g= 1 c= 10 accuracy test= 0.8564102564102564\n",
      "g= 1 c= 10 accuracy train= 0.864901324764301\n",
      "g= 10 c= 10 accuracy test= 0.8554553492484527\n",
      "g= 10 c= 10 accuracy train= 0.8965198411495438\n"
     ]
    }
   ],
   "source": [
    "# Tune parameters\n",
    "# kernel rbf\n",
    "\n",
    "G=[0.1,1,10]\n",
    "C=[0.1,1,10]\n",
    "accuracy_test = []\n",
    "accuracy_train = []\n",
    "\n",
    "for c in C:\n",
    "    for g in G:\n",
    "    \n",
    "        svm = SVC(kernel= 'rbf', random_state=1, C=c, gamma=g)\n",
    "        svm.fit(X_train[:, selected_features],y_train)\n",
    "        predict_Ltest = svm.predict(X_test[:, selected_features])\n",
    "        predict_Ltrain = svm.predict(X_train[:, selected_features])\n",
    "        a1=accuracy_score(y_test,predict_Ltest)\n",
    "        a2=accuracy_score(y_train,predict_Ltrain)\n",
    "        accuracy_test.append([g,c,a1])\n",
    "        print('g=',g,'c=',c,'accuracy test=',a1)\n",
    "        accuracy_train.append([g,c,a2])\n",
    "        print('g=',g,'c=',c,'accuracy train=',a2)\n",
    "\n"
   ]
  },
  {
   "cell_type": "code",
   "execution_count": null,
   "id": "12dfeb88",
   "metadata": {},
   "outputs": [],
   "source": []
  }
 ],
 "metadata": {
  "kernelspec": {
   "display_name": "Python 3",
   "language": "python",
   "name": "python3"
  },
  "language_info": {
   "codemirror_mode": {
    "name": "ipython",
    "version": 3
   },
   "file_extension": ".py",
   "mimetype": "text/x-python",
   "name": "python",
   "nbconvert_exporter": "python",
   "pygments_lexer": "ipython3",
   "version": "3.8.8"
  }
 },
 "nbformat": 4,
 "nbformat_minor": 5
}
