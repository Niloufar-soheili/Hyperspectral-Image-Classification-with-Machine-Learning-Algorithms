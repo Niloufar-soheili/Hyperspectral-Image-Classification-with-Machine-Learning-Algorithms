{
 "cells": [
  {
   "cell_type": "code",
   "execution_count": 1,
   "id": "330fddee",
   "metadata": {},
   "outputs": [],
   "source": [
    "import numpy as np\n",
    "import matplotlib.pyplot as plt\n",
    "%matplotlib inline\n",
    "from scipy.io import loadmat\n",
    "from sklearn.preprocessing import StandardScaler, MinMaxScaler\n",
    "from sklearn.model_selection import train_test_split\n",
    "\n",
    "from matplotlib import cm\n",
    "from matplotlib.ticker import LinearLocator, FormatStrFormatter\n",
    "from sklearn.svm import SVC\n",
    "from sklearn.metrics import accuracy_score\n",
    "import matplotlib.pyplot as plt\n"
   ]
  },
  {
   "cell_type": "code",
   "execution_count": 2,
   "id": "75968387",
   "metadata": {},
   "outputs": [
    {
     "name": "stdout",
     "output_type": "stream",
     "text": [
      "(94249, 162)\n",
      "(94249,)\n"
     ]
    }
   ],
   "source": [
    "# Importing the Data                                                                       Shape\n",
    "\n",
    "Endg_Truth = loadmat('end6_groundTruth.mat')      \n",
    "Ground_Truth = loadmat('groundTruth.mat')               \n",
    "Urban = loadmat('Urban_R162.mat')                 \n",
    "image = Urban['Y'].T                                                                #    94249*162  \n",
    "groundTruth = Ground_Truth ['groundTruth']                                          #     307*307\n",
    "image_shape = (Ground_Truth ['nRow'], Ground_Truth ['nCol'], image.shape[1])\n",
    "\n",
    "\n",
    "def hyper_to_2D(img):\n",
    "    \"\"\"\n",
    "    \n",
    "    Converts a 3D HSI cube (m x n x p) to a 2D matrix of points (N X p)\n",
    "+   N = m*n, p := number of bands\n",
    "\n",
    "    \"\"\"\n",
    "    img = np.array(img)\n",
    "    ndim = img.ndim\n",
    "\n",
    "    if ndim not in [2, 3]:\n",
    "      raise \"invalid dimention. ndim = 2 or 3\"\n",
    "\n",
    "    if ndim == 2:\n",
    "      m, n = np.shape(img)\n",
    "      \n",
    "      hyper_img = np.empty((m,n,1))\n",
    "      hyper_img[:,:,0] = img\n",
    "\n",
    "      return hyper_to_2D(hyper_img).ravel()\n",
    "\n",
    "    m, n, p = np.shape(img)\n",
    "    N = n * m\n",
    "    \n",
    "    dataset = img.T.reshape((p, N)).T\n",
    "\n",
    "    if p == 1:\n",
    "      return dataset.ravel()\n",
    "    \n",
    "    return dataset\n",
    "\n",
    "image = image\n",
    "groundTruth = hyper_to_2D(groundTruth)\n",
    "\n",
    "print(image.shape)\n",
    "print(groundTruth.shape)\n"
   ]
  },
  {
   "cell_type": "code",
   "execution_count": 3,
   "id": "de968ad9",
   "metadata": {},
   "outputs": [
    {
     "name": "stdout",
     "output_type": "stream",
     "text": [
      "(65974, 162)\n",
      "(28275, 162)\n",
      "(65974,)\n",
      "(28275,)\n"
     ]
    }
   ],
   "source": [
    "# Standardization\n",
    "# Split into train (2/3) and test (1/3) sets\n",
    "\n",
    "image = StandardScaler().fit_transform(image)\n",
    "seed = 40\n",
    "X_train, X_test, y_train, y_test = train_test_split(image, groundTruth, test_size = 0.30 , train_size = 0.70 , random_state = seed , stratify=groundTruth)\n",
    "print(X_train.shape)\n",
    "print(X_test.shape)\n",
    "print(y_train.shape)\n",
    "print(y_test.shape)\n"
   ]
  },
  {
   "cell_type": "code",
   "execution_count": 4,
   "id": "4c0e667f",
   "metadata": {},
   "outputs": [],
   "source": [
    "# sequential forward Feature Selection\n",
    "\n",
    "SFS_FS = [14, 47, 61, 76, 106, 107, 115, 129, 142, 145]\n"
   ]
  },
  {
   "cell_type": "code",
   "execution_count": 5,
   "id": "a9ceff30",
   "metadata": {},
   "outputs": [
    {
     "name": "stdout",
     "output_type": "stream",
     "text": [
      "g= 0.1 coef= 0.25 accuracy test= 0.5426348364279399\n",
      "g= 0.1 coef= 0.25 accuracy train= 0.5476248218995362\n",
      "g= 1 coef= 0.25 accuracy test= 0.38854111405835545\n",
      "g= 1 coef= 0.25 accuracy train= 0.3906084214993785\n",
      "g= 10 coef= 0.25 accuracy test= 0.45389920424403185\n",
      "g= 10 coef= 0.25 accuracy train= 0.4557552975414557\n",
      "g= 0.1 coef= 0.5 accuracy test= 0.4784438549955791\n",
      "g= 0.1 coef= 0.5 accuracy train= 0.48294782793221575\n",
      "g= 1 coef= 0.5 accuracy test= 0.397736516357206\n",
      "g= 1 coef= 0.5 accuracy train= 0.40173401643071516\n",
      "g= 10 coef= 0.5 accuracy test= 0.4506808134394341\n",
      "g= 10 coef= 0.5 accuracy train= 0.45254191044957104\n",
      "g= 0.1 coef= 4 accuracy test= 0.46436781609195404\n",
      "g= 0.1 coef= 4 accuracy train= 0.4641222299693819\n",
      "g= 1 coef= 4 accuracy test= 0.2549955791335102\n",
      "g= 1 coef= 4 accuracy train= 0.25073513808470005\n",
      "g= 10 coef= 4 accuracy test= 0.46783377541998233\n",
      "g= 10 coef= 4 accuracy train= 0.47141298087125233\n"
     ]
    }
   ],
   "source": [
    "# Tune parameters\n",
    "# kernel sigmoid\n",
    "\n",
    "G=[0.1,1,10]\n",
    "Coef=[0.25,0.5,4]\n",
    "accuracy_test = []\n",
    "accuracy_train = []\n",
    "\n",
    "for coef in Coef:\n",
    "    for g in G:\n",
    "    \n",
    "        svm = SVC(kernel= 'sigmoid', random_state=1, C=100, gamma=g,coef0=coef)\n",
    "        svm.fit(X_train[:,  SFS_FS],y_train)\n",
    "        predict_Ltest = svm.predict(X_test[:,  SFS_FS])\n",
    "        predict_Ltrain = svm.predict(X_train[:,  SFS_FS])\n",
    "        a1=accuracy_score(y_test,predict_Ltest)\n",
    "        a2=accuracy_score(y_train,predict_Ltrain)\n",
    "        accuracy_test.append([g,coef,a1])\n",
    "        print('g=',g,'coef=',coef,'accuracy test=',a1)\n",
    "        accuracy_train.append([g,coef,a2])\n",
    "        print('g=',g,'coef=',coef,'accuracy train=',a2)"
   ]
  },
  {
   "cell_type": "code",
   "execution_count": null,
   "id": "a4f808de",
   "metadata": {},
   "outputs": [],
   "source": []
  },
  {
   "cell_type": "code",
   "execution_count": null,
   "id": "823ba2cf",
   "metadata": {},
   "outputs": [],
   "source": []
  }
 ],
 "metadata": {
  "kernelspec": {
   "display_name": "Python 3",
   "language": "python",
   "name": "python3"
  },
  "language_info": {
   "codemirror_mode": {
    "name": "ipython",
    "version": 3
   },
   "file_extension": ".py",
   "mimetype": "text/x-python",
   "name": "python",
   "nbconvert_exporter": "python",
   "pygments_lexer": "ipython3",
   "version": "3.8.8"
  }
 },
 "nbformat": 4,
 "nbformat_minor": 5
}
