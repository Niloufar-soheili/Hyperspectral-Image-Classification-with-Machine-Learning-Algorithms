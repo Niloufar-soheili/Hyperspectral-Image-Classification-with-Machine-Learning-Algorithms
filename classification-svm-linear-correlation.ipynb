{
 "cells": [
  {
   "cell_type": "code",
   "execution_count": 1,
   "id": "50f9643c",
   "metadata": {},
   "outputs": [],
   "source": [
    "import numpy as np\n",
    "import matplotlib.pyplot as plt\n",
    "%matplotlib inline\n",
    "from scipy.io import loadmat\n",
    "from sklearn.preprocessing import StandardScaler, MinMaxScaler\n",
    "from sklearn.model_selection import train_test_split\n",
    "\n",
    "from matplotlib import cm\n",
    "from matplotlib.ticker import LinearLocator, FormatStrFormatter\n",
    "from sklearn.svm import SVC\n",
    "from sklearn.metrics import accuracy_score\n",
    "import matplotlib.pyplot as plt\n"
   ]
  },
  {
   "cell_type": "code",
   "execution_count": 2,
   "id": "dd6cba22",
   "metadata": {},
   "outputs": [
    {
     "name": "stdout",
     "output_type": "stream",
     "text": [
      "(94249, 162)\n",
      "(94249,)\n"
     ]
    }
   ],
   "source": [
    "# Importing the Data                                                                       Shape\n",
    "\n",
    "Endg_Truth = loadmat('end6_groundTruth.mat')      \n",
    "Ground_Truth = loadmat('groundTruth.mat')               \n",
    "Urban = loadmat('Urban_R162.mat')                 \n",
    "image = Urban['Y'].T                                                                #    94249*162  \n",
    "groundTruth = Ground_Truth ['groundTruth']                                          #     307*307\n",
    "image_shape = (Ground_Truth ['nRow'], Ground_Truth ['nCol'], image.shape[1])\n",
    "\n",
    "\n",
    "def hyper_to_2D(img):\n",
    "    \"\"\"\n",
    "    \n",
    "    Converts a 3D HSI cube (m x n x p) to a 2D matrix of points (N X p)\n",
    "+   N = m*n, p := number of bands\n",
    "\n",
    "    \"\"\"\n",
    "    img = np.array(img)\n",
    "    ndim = img.ndim\n",
    "\n",
    "    if ndim not in [2, 3]:\n",
    "      raise \"invalid dimention. ndim = 2 or 3\"\n",
    "\n",
    "    if ndim == 2:\n",
    "      m, n = np.shape(img)\n",
    "      \n",
    "      hyper_img = np.empty((m,n,1))\n",
    "      hyper_img[:,:,0] = img\n",
    "\n",
    "      return hyper_to_2D(hyper_img).ravel()\n",
    "\n",
    "    m, n, p = np.shape(img)\n",
    "    N = n * m\n",
    "    \n",
    "    dataset = img.T.reshape((p, N)).T\n",
    "\n",
    "    if p == 1:\n",
    "      return dataset.ravel()\n",
    "    \n",
    "    return dataset\n",
    "\n",
    "image = image\n",
    "groundTruth = hyper_to_2D(groundTruth)\n",
    "\n",
    "print(image.shape)\n",
    "print(groundTruth.shape)\n"
   ]
  },
  {
   "cell_type": "code",
   "execution_count": 3,
   "id": "2b50d194",
   "metadata": {},
   "outputs": [
    {
     "name": "stdout",
     "output_type": "stream",
     "text": [
      "(65974, 162)\n",
      "(28275, 162)\n",
      "(65974,)\n",
      "(28275,)\n"
     ]
    }
   ],
   "source": [
    "# Standardization\n",
    "# Split into train (2/3) and test (1/3) sets\n",
    "\n",
    "image = StandardScaler().fit_transform(image)\n",
    "seed = 40\n",
    "X_train, X_test, y_train, y_test = train_test_split(image, groundTruth, test_size = 0.30 , train_size = 0.70 , random_state = seed , stratify=groundTruth)\n",
    "print(X_train.shape)\n",
    "print(X_test.shape)\n",
    "print(y_train.shape)\n",
    "print(y_test.shape)\n"
   ]
  },
  {
   "cell_type": "code",
   "execution_count": 4,
   "id": "56cdda89",
   "metadata": {},
   "outputs": [],
   "source": [
    "# Correlation base Feature Selection\n",
    "\n",
    "selected_features = [ 51 , 52 , 53 , 81 ,161]\n"
   ]
  },
  {
   "cell_type": "code",
   "execution_count": 5,
   "id": "7b4cf13e",
   "metadata": {},
   "outputs": [
    {
     "name": "stdout",
     "output_type": "stream",
     "text": [
      "c= 0.1 accuracy test= 0.7662599469496021\n",
      "c= 0.1 accuracy train= 0.7678327826113317\n",
      "c= 1 accuracy test= 0.769867374005305\n",
      "c= 1 accuracy train= 0.7728044381119835\n",
      "c= 10 accuracy test= 0.7707161803713528\n",
      "c= 10 accuracy train= 0.774001879528299\n"
     ]
    }
   ],
   "source": [
    "# Parameter Selection\n",
    "\n",
    "C=[0.1,1,10]\n",
    "accuracy_test = []\n",
    "accuracy_train = []\n",
    "\n",
    "for c in C:\n",
    "    \n",
    "        svm = SVC(kernel= 'linear', random_state=1, C=c,)\n",
    "        svm.fit(X_train[:, selected_features],y_train)\n",
    "        predict_Ltest = svm.predict(X_test[:, selected_features])\n",
    "        predict_Ltrain = svm.predict(X_train[:, selected_features])\n",
    "        a1=accuracy_score(y_test,predict_Ltest)\n",
    "        a2=accuracy_score(y_train,predict_Ltrain)\n",
    "        accuracy_test.append([c,a1])\n",
    "        print('c=',c,'accuracy test=',a1)\n",
    "        accuracy_train.append([c,a2])\n",
    "        print('c=',c,'accuracy train=',a2)\n"
   ]
  },
  {
   "cell_type": "code",
   "execution_count": 6,
   "id": "0306765a",
   "metadata": {},
   "outputs": [
    {
     "data": {
      "image/png": "[encoded data removed]",
      "text/plain": [
       "<Figure size 432x288 with 1 Axes>"
      ]
     },
     "metadata": {
      "needs_background": "light"
     },
     "output_type": "display_data"
    }
   ],
   "source": [
    "# Plot\n",
    "\n",
    "accuracy_test = np.array(accuracy_test)\n",
    "accuracy_train = np.array(accuracy_train)\n",
    "a=accuracy_test[:,1]*100\n",
    "\n",
    "plt.plot(C,accuracy_test[:,1])\n",
    "Best1 =accuracy_test[ np.where(accuracy_test == np.max(accuracy_test[:,1]))[0]]\n",
    "Best2 =accuracy_train[ np.where(accuracy_test == np.max(accuracy_test[:,1]))[0]]"
   ]
  },
  {
   "cell_type": "code",
   "execution_count": null,
   "id": "6c035796",
   "metadata": {},
   "outputs": [],
   "source": []
  },
  {
   "cell_type": "code",
   "execution_count": null,
   "id": "c51caa5c",
   "metadata": {},
   "outputs": [],
   "source": []
  }
 ],
 "metadata": {
  "kernelspec": {
   "display_name": "Python 3",
   "language": "python",
   "name": "python3"
  },
  "language_info": {
   "codemirror_mode": {
    "name": "ipython",
    "version": 3
   },
   "file_extension": ".py",
   "mimetype": "text/x-python",
   "name": "python",
   "nbconvert_exporter": "python",
   "pygments_lexer": "ipython3",
   "version": "3.8.8"
  }
 },
 "nbformat": 4,
 "nbformat_minor": 5
}
